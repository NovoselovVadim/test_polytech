{
  "nbformat": 4,
  "nbformat_minor": 0,
  "metadata": {
    "colab": {
      "name": "2020.10.22_3431101/00001.ipynb",
      "provenance": [],
      "collapsed_sections": [],
      "authorship_tag": "ABX9TyMa77shGtz7Sm3vA/RxQnfV",
      "include_colab_link": true
    },
    "kernelspec": {
      "name": "python3",
      "display_name": "Python 3"
    }
  },
  "cells": [
    {
      "cell_type": "markdown",
      "metadata": {
        "id": "view-in-github",
        "colab_type": "text"
      },
      "source": [
        "<a href=\"https://colab.research.google.com/github/NovoselovVadim/test_polytech/blob/master/2020_10_22_3431101_00001.ipynb\" target=\"_parent\"><img src=\"https://colab.research.google.com/assets/colab-badge.svg\" alt=\"Open In Colab\"/></a>"
      ]
    },
    {
      "cell_type": "markdown",
      "metadata": {
        "id": "tD8-9twbqBIg"
      },
      "source": [
        ""
      ]
    },
    {
      "cell_type": "code",
      "metadata": {
        "id": "FhZtnydXNSDB",
        "outputId": "5fb0d8fd-7247-490f-806a-d6b2de9bbdc7",
        "colab": {
          "base_uri": "https://localhost:8080/"
        }
      },
      "source": [
        "my_phone = Телефон ()\n",
        "for i in range(my_phone.дай_мне_количчество_экранов()):\n",
        "  for j in range(my_phone.дай_мне_количество_приложений_на_этом_экране()):\n",
        "    if my_phone.проверь_на_этом_месте_находится_приложение(j,'Instagram') == True:\n",
        "     print(f'Приложение Instagram находится на {i+1} экране, {j+1} позиции')\n",
        "  my_phone.перейди_на_следующий_экран()"
      ],
      "execution_count": 4,
      "outputs": [
        {
          "output_type": "stream",
          "text": [
            "Приложение Instagram находится на 2 экране, 3 позиции\n"
          ],
          "name": "stdout"
        }
      ]
    }
  ]
}