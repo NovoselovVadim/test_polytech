{
  "nbformat": 4,
  "nbformat_minor": 0,
  "metadata": {
    "colab": {
      "name": "2020.10.22_3431101/00001.ipynb",
      "provenance": [],
      "collapsed_sections": [],
      "authorship_tag": "ABX9TyORPQMTp8apUYsm2yvpeeHW",
      "include_colab_link": true
    },
    "kernelspec": {
      "name": "python3",
      "display_name": "Python 3"
    }
  },
  "cells": [
    {
      "cell_type": "markdown",
      "metadata": {
        "id": "view-in-github",
        "colab_type": "text"
      },
      "source": [
        "<a href=\"https://colab.research.google.com/github/NovoselovVadim/test_polytech/blob/master/2020_10_22_3431101_00001.ipynb\" target=\"_parent\"><img src=\"https://colab.research.google.com/assets/colab-badge.svg\" alt=\"Open In Colab\"/></a>"
      ]
    },
    {
      "cell_type": "markdown",
      "metadata": {
        "id": "tD8-9twbqBIg"
      },
      "source": [
        "### Задача\n",
        "Найти **приложение** на экране **телефона**"
      ]
    },
    {
      "cell_type": "markdown",
      "metadata": {
        "id": "3_e8amn9u8wf"
      },
      "source": [
        "### Решение"
      ]
    },
    {
      "cell_type": "code",
      "metadata": {
        "id": "FhZtnydXNSDB",
        "outputId": "6cb3cadf-8b63-4fd1-fbe0-fec14b879f5d",
        "colab": {
          "base_uri": "https://localhost:8080/"
        }
      },
      "source": [
        "class Телефон:\n",
        "  def __init__(self):\n",
        "    self.screen=0\n",
        "    self.apps = [\n",
        "      [\"Google Calendaar\", \"Yandex Disk\", \"Zotero\", \"Bolt\", \"Zoom\"],\n",
        "      [\"Tinder\", \"Discord\", \"Instagram\", \"Telegram\"],\n",
        "      [\"Google Drive\", \"TikTok\", \"Zotero\"]\n",
        "    ]\n",
        "  def какой_экран(self):\n",
        "    print(f\"ты на экране номер {self.screen}\")\n",
        "\n",
        "  def дай_мне_номер_экрана(self):\n",
        "    return self.screen\n",
        "\n",
        "  def перейди_на_следующий_экран(self):\n",
        "    self.screen = self.screen+1%3\n",
        "\n",
        "  def дай_мне_количчество_экранов(self):\n",
        "    return len(self.apps)\n",
        "\n",
        "  def дай_мне_название_приложения_на_этом_месте(self, position):\n",
        "    if position < len(self.apps[self.screen]):\n",
        "      return self.apps[self.screen][position]\n",
        "\n",
        "  def дай_мне_количество_приложений_на_этом_экране(self, position):\n",
        "    return len(self.apps[self.screen])\n",
        "\n",
        "  def дай_мне_количество_приложений_на_этом_экране(self):\n",
        "    return len(self.apps[self.screen])\n",
        "\n",
        "  def проверь_на_этом_месте_находится_приложение(self, position, app):\n",
        "    if position < len(self.apps[self.screen]):\n",
        "      return self.apps[self.screen][position] == app\n",
        "    return False\n",
        "my_phone = Телефон ()\n",
        "target = 0\n",
        "print('Введите название приложения, которое требуется найти:')\n",
        "search_app = input()\n",
        "for i in range(my_phone.дай_мне_количчество_экранов()):\n",
        "  for j in range(my_phone.дай_мне_количество_приложений_на_этом_экране()):\n",
        "    if my_phone.проверь_на_этом_месте_находится_приложение(j, search_app) == True:\n",
        "     print(f'Приложение {search_app} находится на {i+1} экране, {j+1} позиции')\n",
        "     target = 1\n",
        "  my_phone.перейди_на_следующий_экран()\n",
        "if target != 1:\n",
        "  print(f'Приложение \"{search_app}\" не найдено')"
      ],
      "execution_count": 8,
      "outputs": [
        {
          "output_type": "stream",
          "text": [
            "Введите название приложения, которое требуется найти:\n",
            "Instagram\n",
            "Приложение Instagram находится на 2 экране, 3 позиции\n"
          ],
          "name": "stdout"
        }
      ]
    }
  ]
}